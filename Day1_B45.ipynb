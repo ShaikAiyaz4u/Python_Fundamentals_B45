{
 "cells": [
  {
   "cell_type": "code",
   "execution_count": 3,
   "id": "aafcd27d",
   "metadata": {},
   "outputs": [
    {
     "name": "stdout",
     "output_type": "stream",
     "text": [
      "Hello Welcome to the Python Programming world\n"
     ]
    }
   ],
   "source": [
    "print(\"Hello Welcome to the Python Programming world\")\n"
   ]
  },
  {
   "cell_type": "code",
   "execution_count": null,
   "id": "47f5589e",
   "metadata": {},
   "outputs": [],
   "source": []
  }
 ],
 "metadata": {
  "kernelspec": {
   "display_name": "Python 3",
   "language": "python",
   "name": "python3"
  },
  "language_info": {
   "codemirror_mode": {
    "name": "ipython",
    "version": 3
   },
   "file_extension": ".py",
   "mimetype": "text/x-python",
   "name": "python",
   "nbconvert_exporter": "python",
   "pygments_lexer": "ipython3",
   "version": "3.8.8"
  }
 },
 "nbformat": 4,
 "nbformat_minor": 5
}
