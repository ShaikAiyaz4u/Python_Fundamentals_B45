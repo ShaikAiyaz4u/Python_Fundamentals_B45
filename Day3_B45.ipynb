{
 "cells": [
  {
   "cell_type": "code",
   "execution_count": 3,
   "id": "ef0402bb",
   "metadata": {},
   "outputs": [],
   "source": [
    "first_name='shaik aiyaz ahmed'"
   ]
  },
  {
   "cell_type": "code",
   "execution_count": 4,
   "id": "2cd03448",
   "metadata": {},
   "outputs": [
    {
     "name": "stdout",
     "output_type": "stream",
     "text": [
      "shaik aiyaz ahmed\n"
     ]
    }
   ],
   "source": [
    "print(first_name)"
   ]
  },
  {
   "cell_type": "code",
   "execution_count": 5,
   "id": "6aa32089",
   "metadata": {},
   "outputs": [
    {
     "name": "stdout",
     "output_type": "stream",
     "text": [
      "Shaik Aiyaz Ahmed\n"
     ]
    }
   ],
   "source": [
    "print(first_name.title())"
   ]
  },
  {
   "cell_type": "code",
   "execution_count": 7,
   "id": "229da406",
   "metadata": {},
   "outputs": [
    {
     "name": "stdout",
     "output_type": "stream",
     "text": [
      "SHAIK AIYAZ AHMED\n"
     ]
    }
   ],
   "source": [
    "print(first_name.upper())"
   ]
  },
  {
   "cell_type": "code",
   "execution_count": 8,
   "id": "d5da90bf",
   "metadata": {},
   "outputs": [
    {
     "name": "stdout",
     "output_type": "stream",
     "text": [
      "shaik aiyaz ahmed\n"
     ]
    }
   ],
   "source": [
    "print(first_name.lower())"
   ]
  },
  {
   "cell_type": "code",
   "execution_count": 9,
   "id": "67c5a6c7",
   "metadata": {},
   "outputs": [],
   "source": [
    "Last_name='Shaik'"
   ]
  },
  {
   "cell_type": "code",
   "execution_count": 10,
   "id": "accc3bca",
   "metadata": {},
   "outputs": [],
   "source": [
    "name=f\"{first_name}{Last_name}\""
   ]
  },
  {
   "cell_type": "code",
   "execution_count": 11,
   "id": "b0934182",
   "metadata": {},
   "outputs": [
    {
     "name": "stdout",
     "output_type": "stream",
     "text": [
      "shaik aiyaz ahmedShaik\n"
     ]
    }
   ],
   "source": [
    "print(name)"
   ]
  },
  {
   "cell_type": "code",
   "execution_count": 14,
   "id": "bf74a062",
   "metadata": {},
   "outputs": [
    {
     "name": "stdout",
     "output_type": "stream",
     "text": [
      "Favourite Programming Languages:pythoncc++java\n"
     ]
    }
   ],
   "source": [
    "print(\"Favourite Programming Languages:pythoncc++java\")"
   ]
  },
  {
   "cell_type": "code",
   "execution_count": 15,
   "id": "241adcb9",
   "metadata": {},
   "outputs": [
    {
     "name": "stdout",
     "output_type": "stream",
     "text": [
      "Favourite Programming Languages:\n",
      "python\n",
      "c\n",
      "c++\n",
      "java\n"
     ]
    }
   ],
   "source": [
    "print(\"Favourite Programming Languages:\\npython\\nc\\nc++\\njava\")"
   ]
  },
  {
   "cell_type": "code",
   "execution_count": 16,
   "id": "e2964303",
   "metadata": {},
   "outputs": [
    {
     "name": "stdout",
     "output_type": "stream",
     "text": [
      "Favourite Programming Languages:\n",
      "\tpython\n",
      "\tc\n",
      "\tc++\n",
      "\tjava\n"
     ]
    }
   ],
   "source": [
    "print(\"Favourite Programming Languages:\\n\\tpython\\n\\tc\\n\\tc++\\n\\tjava\")"
   ]
  },
  {
   "cell_type": "code",
   "execution_count": 19,
   "id": "70d29dd9",
   "metadata": {},
   "outputs": [
    {
     "name": "stdout",
     "output_type": "stream",
     "text": [
      " Keep up the good work,Shaik Aiyaz Ahmed\n",
      "Shaik\n"
     ]
    }
   ],
   "source": [
    "print(f\" Keep up the good work,{name.title()}\")"
   ]
  },
  {
   "cell_type": "code",
   "execution_count": null,
   "id": "f6573738",
   "metadata": {},
   "outputs": [],
   "source": []
  }
 ],
 "metadata": {
  "kernelspec": {
   "display_name": "Python 3",
   "language": "python",
   "name": "python3"
  },
  "language_info": {
   "codemirror_mode": {
    "name": "ipython",
    "version": 3
   },
   "file_extension": ".py",
   "mimetype": "text/x-python",
   "name": "python",
   "nbconvert_exporter": "python",
   "pygments_lexer": "ipython3",
   "version": "3.8.8"
  }
 },
 "nbformat": 4,
 "nbformat_minor": 5
}
