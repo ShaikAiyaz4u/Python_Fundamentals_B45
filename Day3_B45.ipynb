{
 "cells": [
  {
   "cell_type": "code",
   "execution_count": 3,
   "id": "ef0402bb",
   "metadata": {},
   "outputs": [],
   "source": [
    "first_name='shaik aiyaz ahmed'"
   ]
  },
  {
   "cell_type": "code",
   "execution_count": 4,
   "id": "2cd03448",
   "metadata": {},
   "outputs": [
    {
     "name": "stdout",
     "output_type": "stream",
     "text": [
      "shaik aiyaz ahmed\n"
     ]
    }
   ],
   "source": [
    "print(first_name)"
   ]
  },
  {
   "cell_type": "code",
   "execution_count": 5,
   "id": "6aa32089",
   "metadata": {},
   "outputs": [
    {
     "name": "stdout",
     "output_type": "stream",
     "text": [
      "Shaik Aiyaz Ahmed\n"
     ]
    }
   ],
   "source": [
    "print(first_name.title())"
   ]
  },
  {
   "cell_type": "code",
   "execution_count": 7,
   "id": "229da406",
   "metadata": {},
   "outputs": [
    {
     "name": "stdout",
     "output_type": "stream",
     "text": [
      "SHAIK AIYAZ AHMED\n"
     ]
    }
   ],
   "source": [
    "print(first_name.upper())"
   ]
  },
  {
   "cell_type": "code",
   "execution_count": 8,
   "id": "d5da90bf",
   "metadata": {},
   "outputs": [
    {
     "name": "stdout",
     "output_type": "stream",
     "text": [
      "shaik aiyaz ahmed\n"
     ]
    }
   ],
   "source": [
    "print(first_name.lower())"
   ]
  },
  {
   "cell_type": "code",
   "execution_count": 9,
   "id": "67c5a6c7",
   "metadata": {},
   "outputs": [],
   "source": [
    "Last_name='Shaik'"
   ]
  },
  {
   "cell_type": "code",
   "execution_count": 10,
   "id": "accc3bca",
   "metadata": {},
   "outputs": [],
   "source": [
    "name=f\"{first_name}{Last_name}\""
   ]
  },
  {
   "cell_type": "code",
   "execution_count": 11,
   "id": "b0934182",
   "metadata": {},
   "outputs": [
    {
     "name": "stdout",
     "output_type": "stream",
     "text": [
      "shaik aiyaz ahmedShaik\n"
     ]
    }
   ],
   "source": [
    "print(name)"
   ]
  },
  {
   "cell_type": "code",
   "execution_count": 14,
   "id": "bf74a062",
   "metadata": {},
   "outputs": [
    {
     "name": "stdout",
     "output_type": "stream",
     "text": [
      "Favourite Programming Languages:pythoncc++java\n"
     ]
    }
   ],
   "source": [
    "print(\"Favourite Programming Languages:pythoncc++java\")"
   ]
  },
  {
   "cell_type": "code",
   "execution_count": 15,
   "id": "241adcb9",
   "metadata": {},
   "outputs": [
    {
     "name": "stdout",
     "output_type": "stream",
     "text": [
      "Favourite Programming Languages:\n",
      "python\n",
      "c\n",
      "c++\n",
      "java\n"
     ]
    }
   ],
   "source": [
    "print(\"Favourite Programming Languages:\\npython\\nc\\nc++\\njava\")"
   ]
  },
  {
   "cell_type": "code",
   "execution_count": 16,
   "id": "e2964303",
   "metadata": {},
   "outputs": [
    {
     "name": "stdout",
     "output_type": "stream",
     "text": [
      "Favourite Programming Languages:\n",
      "\tpython\n",
      "\tc\n",
      "\tc++\n",
      "\tjava\n"
     ]
    }
   ],
   "source": [
    "print(\"Favourite Programming Languages:\\n\\tpython\\n\\tc\\n\\tc++\\n\\tjava\")"
   ]
  },
  {
   "cell_type": "code",
   "execution_count": 19,
   "id": "70d29dd9",
   "metadata": {},
   "outputs": [
    {
     "name": "stdout",
     "output_type": "stream",
     "text": [
      " Keep up the good work,Shaik Aiyaz Ahmed\n",
      "Shaik\n"
     ]
    }
   ],
   "source": [
    "print(f\" Keep up the good work,{name.title()}\")"
   ]
  },
  {
   "cell_type": "code",
   "execution_count": 1,
   "id": "f6573738",
   "metadata": {},
   "outputs": [],
   "source": [
    "Students=['rohit', 'mounika','mahreen','kiran','abdul']"
   ]
  },
  {
   "cell_type": "code",
   "execution_count": 3,
   "id": "f3725476",
   "metadata": {},
   "outputs": [
    {
     "name": "stdout",
     "output_type": "stream",
     "text": [
      "['rohit', 'mounika', 'mahreen', 'kiran', 'abdul']\n"
     ]
    }
   ],
   "source": [
    "print(Students)"
   ]
  },
  {
   "cell_type": "code",
   "execution_count": 4,
   "id": "b45910e8",
   "metadata": {},
   "outputs": [
    {
     "data": {
      "text/plain": [
       "list"
      ]
     },
     "execution_count": 4,
     "metadata": {},
     "output_type": "execute_result"
    }
   ],
   "source": [
    "type(Students)"
   ]
  },
  {
   "cell_type": "code",
   "execution_count": 5,
   "id": "4bf1c349",
   "metadata": {},
   "outputs": [],
   "source": [
    "Students.append('divya')"
   ]
  },
  {
   "cell_type": "code",
   "execution_count": 6,
   "id": "ed7f85b9",
   "metadata": {},
   "outputs": [
    {
     "name": "stdout",
     "output_type": "stream",
     "text": [
      "['rohit', 'mounika', 'mahreen', 'kiran', 'abdul', 'divya']\n"
     ]
    }
   ],
   "source": [
    "print(Students)"
   ]
  },
  {
   "cell_type": "code",
   "execution_count": 7,
   "id": "7a7cced8",
   "metadata": {},
   "outputs": [],
   "source": [
    "Students.append('Santosh')"
   ]
  },
  {
   "cell_type": "code",
   "execution_count": 8,
   "id": "1b0b4c2f",
   "metadata": {},
   "outputs": [
    {
     "name": "stdout",
     "output_type": "stream",
     "text": [
      "['rohit', 'mounika', 'mahreen', 'kiran', 'abdul', 'divya', 'Santosh']\n"
     ]
    }
   ],
   "source": [
    "print(Students)"
   ]
  },
  {
   "cell_type": "code",
   "execution_count": 9,
   "id": "948eb33f",
   "metadata": {},
   "outputs": [
    {
     "name": "stdout",
     "output_type": "stream",
     "text": [
      "rohit\n"
     ]
    }
   ],
   "source": [
    "print(Students[0])"
   ]
  },
  {
   "cell_type": "code",
   "execution_count": 10,
   "id": "1331416e",
   "metadata": {},
   "outputs": [
    {
     "name": "stdout",
     "output_type": "stream",
     "text": [
      "abdul\n"
     ]
    }
   ],
   "source": [
    "print(Students[4])"
   ]
  },
  {
   "cell_type": "code",
   "execution_count": 11,
   "id": "9d409373",
   "metadata": {},
   "outputs": [
    {
     "name": "stdout",
     "output_type": "stream",
     "text": [
      "mahreen\n"
     ]
    }
   ],
   "source": [
    "print(Students[2])"
   ]
  },
  {
   "cell_type": "code",
   "execution_count": 12,
   "id": "96110a35",
   "metadata": {},
   "outputs": [],
   "source": [
    "Students[4]='Rafay'"
   ]
  },
  {
   "cell_type": "code",
   "execution_count": 13,
   "id": "9a1cf6e9",
   "metadata": {},
   "outputs": [
    {
     "name": "stdout",
     "output_type": "stream",
     "text": [
      "['rohit', 'mounika', 'mahreen', 'kiran', 'Rafay', 'divya', 'Santosh']\n"
     ]
    }
   ],
   "source": [
    "print(Students)"
   ]
  },
  {
   "cell_type": "code",
   "execution_count": 16,
   "id": "6ccae17f",
   "metadata": {},
   "outputs": [],
   "source": [
    "del Students[4]"
   ]
  },
  {
   "cell_type": "code",
   "execution_count": 17,
   "id": "217fd628",
   "metadata": {},
   "outputs": [
    {
     "name": "stdout",
     "output_type": "stream",
     "text": [
      "['rohit', 'mounika', 'mahreen', 'kiran', 'divya', 'Santosh']\n"
     ]
    }
   ],
   "source": [
    "print(Students)"
   ]
  },
  {
   "cell_type": "code",
   "execution_count": 18,
   "id": "50b6d119",
   "metadata": {},
   "outputs": [],
   "source": [
    "x=Students.pop()"
   ]
  },
  {
   "cell_type": "code",
   "execution_count": 19,
   "id": "63c9db0f",
   "metadata": {},
   "outputs": [
    {
     "name": "stdout",
     "output_type": "stream",
     "text": [
      "['rohit', 'mounika', 'mahreen', 'kiran', 'divya']\n"
     ]
    }
   ],
   "source": [
    "print(Students)"
   ]
  },
  {
   "cell_type": "code",
   "execution_count": 20,
   "id": "a6b364a6",
   "metadata": {},
   "outputs": [
    {
     "name": "stdout",
     "output_type": "stream",
     "text": [
      "Santosh\n"
     ]
    }
   ],
   "source": [
    "print(x)"
   ]
  },
  {
   "cell_type": "code",
   "execution_count": null,
   "id": "4642a8af",
   "metadata": {},
   "outputs": [],
   "source": []
  }
 ],
 "metadata": {
  "kernelspec": {
   "display_name": "Python 3",
   "language": "python",
   "name": "python3"
  },
  "language_info": {
   "codemirror_mode": {
    "name": "ipython",
    "version": 3
   },
   "file_extension": ".py",
   "mimetype": "text/x-python",
   "name": "python",
   "nbconvert_exporter": "python",
   "pygments_lexer": "ipython3",
   "version": "3.8.8"
  }
 },
 "nbformat": 4,
 "nbformat_minor": 5
}
