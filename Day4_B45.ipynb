{
 "cells": [
  {
   "cell_type": "code",
   "execution_count": 4,
   "id": "e816a37f",
   "metadata": {},
   "outputs": [],
   "source": [
    "cars=['suzuki','kia','tata','audi','bmw','landover','benz']"
   ]
  },
  {
   "cell_type": "code",
   "execution_count": 5,
   "id": "cb685d84",
   "metadata": {},
   "outputs": [
    {
     "name": "stdout",
     "output_type": "stream",
     "text": [
      "['suzuki', 'kia', 'tata', 'audi', 'bmw', 'landover', 'benz']\n"
     ]
    }
   ],
   "source": [
    "print(cars)"
   ]
  },
  {
   "cell_type": "code",
   "execution_count": 9,
   "id": "83219f2d",
   "metadata": {},
   "outputs": [
    {
     "name": "stdout",
     "output_type": "stream",
     "text": [
      "['audi', 'benz', 'bmw', 'kia', 'landover', 'suzuki', 'tata']\n"
     ]
    }
   ],
   "source": [
    "print(sorted(cars))"
   ]
  },
  {
   "cell_type": "raw",
   "id": "f17fffae",
   "metadata": {},
   "source": [
    "cars.sort()"
   ]
  },
  {
   "cell_type": "code",
   "execution_count": 15,
   "id": "f63a8458",
   "metadata": {},
   "outputs": [
    {
     "name": "stdout",
     "output_type": "stream",
     "text": [
      "['audi', 'benz', 'bmw', 'kia', 'landover', 'suzuki', 'tata']\n"
     ]
    }
   ],
   "source": [
    "print(cars)"
   ]
  },
  {
   "cell_type": "code",
   "execution_count": 17,
   "id": "1189bbc2",
   "metadata": {},
   "outputs": [
    {
     "name": "stdout",
     "output_type": "stream",
     "text": [
      "['audi', 'benz', 'bmw', 'kia', 'landover', 'suzuki', 'tata']\n"
     ]
    }
   ],
   "source": [
    "print(cars)"
   ]
  },
  {
   "cell_type": "code",
   "execution_count": 18,
   "id": "3499ea16",
   "metadata": {},
   "outputs": [
    {
     "name": "stdout",
     "output_type": "stream",
     "text": [
      "['audi', 'benz', 'bmw', 'kia', 'landover', 'suzuki', 'tata']\n"
     ]
    }
   ],
   "source": [
    "print(cars)"
   ]
  },
  {
   "cell_type": "code",
   "execution_count": 19,
   "id": "acb0c064",
   "metadata": {},
   "outputs": [],
   "source": [
    "cars.reverse()"
   ]
  },
  {
   "cell_type": "code",
   "execution_count": 20,
   "id": "5f979ea8",
   "metadata": {},
   "outputs": [
    {
     "name": "stdout",
     "output_type": "stream",
     "text": [
      "['tata', 'suzuki', 'landover', 'kia', 'bmw', 'benz', 'audi']\n"
     ]
    }
   ],
   "source": [
    "print(cars)"
   ]
  },
  {
   "cell_type": "code",
   "execution_count": 22,
   "id": "48f5a790",
   "metadata": {},
   "outputs": [],
   "source": [
    "Students =['kiran','kumar','mahreen','divya','naveen','abdul','david','kathik']"
   ]
  },
  {
   "cell_type": "code",
   "execution_count": 23,
   "id": "ce2f6a87",
   "metadata": {},
   "outputs": [
    {
     "name": "stdout",
     "output_type": "stream",
     "text": [
      "['kiran', 'kumar', 'mahreen', 'divya', 'naveen', 'abdul', 'david', 'kathik']\n"
     ]
    }
   ],
   "source": [
    "print(Students)"
   ]
  },
  {
   "cell_type": "code",
   "execution_count": 25,
   "id": "fe8fa210",
   "metadata": {},
   "outputs": [
    {
     "name": "stdout",
     "output_type": "stream",
     "text": [
      "['kiran', 'kumar']\n"
     ]
    }
   ],
   "source": [
    "print(Students[0:2])"
   ]
  },
  {
   "cell_type": "code",
   "execution_count": 26,
   "id": "8c833e4d",
   "metadata": {},
   "outputs": [
    {
     "name": "stdout",
     "output_type": "stream",
     "text": [
      "['mahreen', 'divya']\n"
     ]
    }
   ],
   "source": [
    "print(Students[2:4])"
   ]
  },
  {
   "cell_type": "code",
   "execution_count": 27,
   "id": "bb6483d2",
   "metadata": {},
   "outputs": [
    {
     "name": "stdout",
     "output_type": "stream",
     "text": [
      "['naveen', 'abdul']\n"
     ]
    }
   ],
   "source": [
    "print(Students[4:6])"
   ]
  },
  {
   "cell_type": "code",
   "execution_count": 28,
   "id": "eea2c991",
   "metadata": {},
   "outputs": [
    {
     "name": "stdout",
     "output_type": "stream",
     "text": [
      "['david', 'kathik']\n"
     ]
    }
   ],
   "source": [
    "print(Students[6:8])"
   ]
  },
  {
   "cell_type": "code",
   "execution_count": 31,
   "id": "adf67f92",
   "metadata": {},
   "outputs": [
    {
     "name": "stdout",
     "output_type": "stream",
     "text": [
      "['kiran', 'kumar', 'mahreen', 'divya']\n"
     ]
    }
   ],
   "source": [
    "print(Students[0:4])"
   ]
  },
  {
   "cell_type": "code",
   "execution_count": null,
   "id": "78a7e769",
   "metadata": {},
   "outputs": [],
   "source": []
  }
 ],
 "metadata": {
  "kernelspec": {
   "display_name": "Python 3",
   "language": "python",
   "name": "python3"
  },
  "language_info": {
   "codemirror_mode": {
    "name": "ipython",
    "version": 3
   },
   "file_extension": ".py",
   "mimetype": "text/x-python",
   "name": "python",
   "nbconvert_exporter": "python",
   "pygments_lexer": "ipython3",
   "version": "3.8.8"
  }
 },
 "nbformat": 4,
 "nbformat_minor": 5
}
