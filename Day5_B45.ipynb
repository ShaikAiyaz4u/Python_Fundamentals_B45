{
 "cells": [
  {
   "cell_type": "code",
   "execution_count": 1,
   "id": "86444b9b",
   "metadata": {},
   "outputs": [],
   "source": [
    "Students =['sampath','afsha','aftab','naveen','divya','harika']"
   ]
  },
  {
   "cell_type": "code",
   "execution_count": 2,
   "id": "7b7119b8",
   "metadata": {},
   "outputs": [
    {
     "name": "stdout",
     "output_type": "stream",
     "text": [
      "['sampath', 'afsha', 'aftab', 'naveen', 'divya', 'harika']\n"
     ]
    }
   ],
   "source": [
    "print(Students)"
   ]
  },
  {
   "cell_type": "code",
   "execution_count": 3,
   "id": "4386883e",
   "metadata": {},
   "outputs": [
    {
     "name": "stdout",
     "output_type": "stream",
     "text": [
      "Keep up the Good Work,Sampath\n"
     ]
    }
   ],
   "source": [
    "print(f\"Keep up the Good Work,{Students[0].title()}\")"
   ]
  },
  {
   "cell_type": "code",
   "execution_count": 4,
   "id": "15401a65",
   "metadata": {},
   "outputs": [
    {
     "name": "stdout",
     "output_type": "stream",
     "text": [
      "Keep up the Good Work,Afsha\n"
     ]
    }
   ],
   "source": [
    "print(f\"Keep up the Good Work,{Students[1].title()}\")"
   ]
  },
  {
   "cell_type": "code",
   "execution_count": 5,
   "id": "81be0a8f",
   "metadata": {},
   "outputs": [
    {
     "name": "stdout",
     "output_type": "stream",
     "text": [
      "Keep up the Good Work,Aftab\n"
     ]
    }
   ],
   "source": [
    "print(f\"Keep up the Good Work,{Students[2].title()}\")"
   ]
  },
  {
   "cell_type": "code",
   "execution_count": 9,
   "id": "d97b22fa",
   "metadata": {},
   "outputs": [
    {
     "name": "stdout",
     "output_type": "stream",
     "text": [
      "Keep up the Good Work,Sampath\n",
      "Keep up the Good Work,Afsha\n",
      "Keep up the Good Work,Aftab\n",
      "Keep up the Good Work,Naveen\n",
      "Keep up the Good Work,Divya\n",
      "Keep up the Good Work,Harika\n"
     ]
    }
   ],
   "source": [
    "for x in Students:\n",
    "   print(f\"Keep up the Good Work,{x.title()}\") "
   ]
  },
  {
   "cell_type": "code",
   "execution_count": 10,
   "id": "c301613b",
   "metadata": {},
   "outputs": [
    {
     "name": "stdout",
     "output_type": "stream",
     "text": [
      "Keep up the Good Work,Sampath\n",
      "Keep up the Good Work,Afsha\n",
      "Keep up the Good Work,Aftab\n",
      "Keep up the Good Work,Naveen\n",
      "Keep up the Good Work,Divya\n",
      "Keep up the Good Work,Harika\n"
     ]
    }
   ],
   "source": [
    "for batman in Students:\n",
    "   print(f\"Keep up the Good Work,{batman.title()}\") "
   ]
  },
  {
   "cell_type": "code",
   "execution_count": 11,
   "id": "894a5175",
   "metadata": {},
   "outputs": [
    {
     "name": "stdout",
     "output_type": "stream",
     "text": [
      "Keep up the Good Work,Sampath\n",
      "i am looking forward to receive the practice file of today,Sampath\n",
      "Keep up the Good Work,Afsha\n",
      "i am looking forward to receive the practice file of today,Afsha\n",
      "Keep up the Good Work,Aftab\n",
      "i am looking forward to receive the practice file of today,Aftab\n",
      "Keep up the Good Work,Naveen\n",
      "i am looking forward to receive the practice file of today,Naveen\n",
      "Keep up the Good Work,Divya\n",
      "i am looking forward to receive the practice file of today,Divya\n",
      "Keep up the Good Work,Harika\n",
      "i am looking forward to receive the practice file of today,Harika\n"
     ]
    }
   ],
   "source": [
    "for x in Students:\n",
    "   print(f\"Keep up the Good Work,{x.title()}\") \n",
    "   print(f\"i am looking forward to receive the practice file of today,{x.title()}\") "
   ]
  },
  {
   "cell_type": "code",
   "execution_count": 12,
   "id": "65507861",
   "metadata": {},
   "outputs": [
    {
     "name": "stdout",
     "output_type": "stream",
     "text": [
      "Keep up the Good Work,Sampath\n",
      "i am looking forward to receive the practice file of today,Sampath.\n",
      "\n",
      "Keep up the Good Work,Afsha\n",
      "i am looking forward to receive the practice file of today,Afsha.\n",
      "\n",
      "Keep up the Good Work,Aftab\n",
      "i am looking forward to receive the practice file of today,Aftab.\n",
      "\n",
      "Keep up the Good Work,Naveen\n",
      "i am looking forward to receive the practice file of today,Naveen.\n",
      "\n",
      "Keep up the Good Work,Divya\n",
      "i am looking forward to receive the practice file of today,Divya.\n",
      "\n",
      "Keep up the Good Work,Harika\n",
      "i am looking forward to receive the practice file of today,Harika.\n",
      "\n"
     ]
    }
   ],
   "source": [
    "for x in Students:\n",
    "   print(f\"Keep up the Good Work,{x.title()}\") \n",
    "   print(f\"i am looking forward to receive the practice file of today,{x.title()}.\\n\") "
   ]
  },
  {
   "cell_type": "code",
   "execution_count": 13,
   "id": "aee8ace7",
   "metadata": {},
   "outputs": [
    {
     "name": "stdout",
     "output_type": "stream",
     "text": [
      "Keep up the Good Work,Sampath\n",
      "i am looking forward to receive the practice file of today,Sampath.\n",
      "\n",
      "Keep up the Good Work,Afsha\n",
      "i am looking forward to receive the practice file of today,Afsha.\n",
      "\n",
      "Keep up the Good Work,Aftab\n",
      "i am looking forward to receive the practice file of today,Aftab.\n",
      "\n",
      "Keep up the Good Work,Naveen\n",
      "i am looking forward to receive the practice file of today,Naveen.\n",
      "\n",
      "Keep up the Good Work,Divya\n",
      "i am looking forward to receive the practice file of today,Divya.\n",
      "\n",
      "Keep up the Good Work,Harika\n",
      "i am looking forward to receive the practice file of today,Harika.\n",
      "\n",
      "Thank you all for joining in the sessions\n"
     ]
    }
   ],
   "source": [
    "for x in Students:\n",
    "   print(f\"Keep up the Good Work,{x.title()}\") \n",
    "   print(f\"i am looking forward to receive the practice file of today,{x.title()}.\\n\") \n",
    "    \n",
    "print(\"Thank you all for joining in the sessions\")"
   ]
  },
  {
   "cell_type": "code",
   "execution_count": null,
   "id": "7c37d25b",
   "metadata": {},
   "outputs": [],
   "source": []
  }
 ],
 "metadata": {
  "kernelspec": {
   "display_name": "Python 3",
   "language": "python",
   "name": "python3"
  },
  "language_info": {
   "codemirror_mode": {
    "name": "ipython",
    "version": 3
   },
   "file_extension": ".py",
   "mimetype": "text/x-python",
   "name": "python",
   "nbconvert_exporter": "python",
   "pygments_lexer": "ipython3",
   "version": "3.8.8"
  }
 },
 "nbformat": 4,
 "nbformat_minor": 5
}
